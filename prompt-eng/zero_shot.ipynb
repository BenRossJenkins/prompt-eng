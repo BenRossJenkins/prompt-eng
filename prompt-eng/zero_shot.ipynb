{
 "cells": [
  {
   "cell_type": "markdown",
   "metadata": {},
   "source": [
    "\n",
    "\n"
   ]
  },
  {
   "cell_type": "markdown",
   "metadata": {},
   "source": [
    "# Zero-Shot Prompting\n",
    "\n",
    "Zero-shot prompting refers to a technique in prompt engineering where you provide a model with a task without any prior examples. The model is expected to understand and generate a response or complete the task purely based on the given instruction.\n",
    "\n",
    "In other words, the model is given \"zero\" prior training examples or demonstrations in the prompt and relies on its pre-trained knowledge to infer what is needed.\n",
    "\n",
    "## References:\n",
    "* [Wei et al. (2022)](https://arxiv.org/pdf/2109.01652.pdf): demonstrate how instruction tuning improves zero-shot learning "
   ]
  },
  {
   "cell_type": "markdown",
   "metadata": {},
   "source": [
    "## Running this code on MyBind.org\n",
    "\n",
    "Note: remember that you will need to **adjust CONFIG** with **proper URL and API_KEY**!\n",
    "\n",
    "[![Binder](https://mybinder.org/badge_logo.svg)](https://mybinder.org/v2/gh/GenILab-FAU/prompt-eng/HEAD?urlpath=%2Fdoc%2Ftree%2Fprompt-eng%2Fzero_shot.ipynb)\n",
    "\n"
   ]
  },
  {
   "cell_type": "code",
   "execution_count": null,
   "metadata": {},
   "outputs": [
    {
     "name": "stdout",
     "output_type": "stream",
     "text": [
      "To calculate this, we need to know that the logarithm of 2 (base 10) is approximately 0.301.\n",
      "\n",
      "So,\n",
      "\n",
      "984 * log(2) ≈ 984 * 0.301\n",
      "≈ 295.584\n",
      "Time taken: 5.399s\n"
     ]
    }
   ],
   "source": [
    "##\n",
    "## ZERO SHOT PROMPTING\n",
    "##\n",
    "\n",
    "from _pipeline import create_payload, model_req\n",
    "\n",
    "#### (1) Adjust the inbounding  Prompt, simulating inbounding requests from users or other systems\n",
    "MESSAGE = \"What is 984 * log(2)\"\n",
    "\n",
    "#### (2) Adjust the Prompt Engineering Technique to be applied, simulating Workflow Templates\n",
    "PROMPT = MESSAGE \n",
    "\n",
    "#### (3) Configure the Model request, simulating Workflow Orchestration\n",
    "# Documentation: https://github.com/ollama/ollama/blob/main/docs/api.md\n",
    "payload = create_payload(target=\"ollama\",\n",
    "                         model=\"llama3.2:latest\", \n",
    "                         prompt=PROMPT, \n",
    "                         temperature=1.0, \n",
    "                         num_ctx=100, \n",
    "                         num_predict=100)\n",
    "\n",
    "### YOU DONT NEED TO CONFIGURE ANYTHING ELSE FROM THIS POINT\n",
    "# Send out to the model\n",
    "time, response = model_req(payload=payload)\n",
    "print(response)\n",
    "if time: print(f'Time taken: {time}s')"
   ]
  },
  {
   "cell_type": "markdown",
   "metadata": {},
   "source": [
    "---\n",
    "\n",
    "## How to improve it?\n",
    "\n",
    "* **Use Clear and Concise Instructions**: Be specific about the task and desired format.\n",
    "    * Bad Prompt: “Summarize this.”\n",
    "    * Good Prompt: “Summarize this paragraph in one sentence.”\n",
    "* **Add Context**: Providing background can help the model interpret ambiguous prompts better.\n",
    "* **Specify Output Format**: If a particular structure is needed, describe it in the instruction."
   ]
  },
  {
   "cell_type": "code",
   "execution_count": 2,
   "metadata": {},
   "outputs": [
    {
     "name": "stdout",
     "output_type": "stream",
     "text": [
      "{'model': 'mistral', 'prompt': \"\\nYou are an AI hiring assistant. Analyze the following job description and candidate resume. \\nCompare the qualifications and provide a structured evaluation with a weighted match score.\\n\\n---\\n\\n### **Evaluation Criteria:**\\n- **Required skills missing:** -10% per missing skill.\\n- **Preferred skills missing:** -5% per missing skill.\\n- **Exceeds required experience:** +2% per extra year (max +5%).\\n- **Final score is capped at 100%**.\\n\\n---\\n\\n**Job Description:**  \\n\\nWe are hiring a Data Scientist with expertise in Python, Machine Learning, and SQL.\\nThe candidate must have at least 3 years of experience and a background in statistical modeling.\\nExperience with cloud platforms (AWS, GCP) is a plus.\\n  \\n\\n**Candidate Resume:**  \\n\\nJohn Doe is a Data Scientist with 4 years of experience. Skilled in Python, Machine Learning,\\nand SQL. He has worked on predictive modeling projects and statistical analysis.\\nFamiliar with AWS but lacks GCP experience.\\n  \\n\\n---\\n\\n### **Instructions:**  \\n1️⃣ Extract key skills, experience, and certifications from both documents.  \\n2️⃣ Identify matches and gaps between the job description and the candidate's qualifications.  \\n3️⃣ Apply the weighted scoring system to determine the final match score.  \\n4️⃣ Provide a **concise hiring recommendation** based on the score:  \\n   - **90%+ → Strong Fit (Highly Recommended)**  \\n   - **75%-89% → Good Fit (Recommended with Minor Improvements)**  \\n   - **Below 75% → Needs Improvement (Not Recommended)**  \\n\\n---\\n\\n### **Output Format:**  \\n✔ **Evaluation Summary:** Key matches and missing skills.  \\n✔ **Match Score:** XX% (numerical only).  \\n✔ **Hiring Recommendation:** Decision based on final match score.  \\n\\nProvide the structured response exactly as specified. Do not include explanations beyond the requested sections.\\n\", 'stream': False, 'options': {'temperature': 0.7, 'num_ctx': 768, 'num_predict': 350, 'stream': True}}\n",
      "✔ **Evaluation Summary:**\n",
      "  - Matches: Python, Machine Learning, SQL, Experience (4 years).\n",
      "  - Missing Skills: GCP experience (Preferred).\n",
      "\n",
      "  ✔ **Match Score:**\n",
      "  78%\n",
      "\n",
      "  ✔ **Hiring Recommendation:**\n",
      "  Good Fit (Recommended with Minor Improvements)\n",
      "Time taken: 39.758s\n"
     ]
    }
   ],
   "source": [
    "from _pipeline import create_payload, model_req\n",
    "\n",
    "#### (1) Adjust the inbounding Prompt, simulating inbounding requests from users or other systems\n",
    "JOB_DESCRIPTION = \"\"\"\n",
    "We are hiring a Data Scientist with expertise in Python, Machine Learning, and SQL.\n",
    "The candidate must have at least 3 years of experience and a background in statistical modeling.\n",
    "Experience with cloud platforms (AWS, GCP) is a plus.\n",
    "\"\"\"\n",
    "\n",
    "RESUME = \"\"\"\n",
    "John Doe is a Data Scientist with 4 years of experience. Skilled in Python, Machine Learning,\n",
    "and SQL. He has worked on predictive modeling projects and statistical analysis.\n",
    "Familiar with AWS but lacks GCP experience.\n",
    "\"\"\"\n",
    "\n",
    "#### (2) Adjust the Zero-Shot Prompt\n",
    "ZERO_SHOT_PROMPT = f\"\"\"\n",
    "You are an AI hiring assistant. Analyze the following job description and candidate resume. \n",
    "Compare the qualifications and provide a structured evaluation with a weighted match score.\n",
    "\n",
    "---\n",
    "\n",
    "### **Evaluation Criteria:**\n",
    "- **Required skills missing:** -10% per missing skill.\n",
    "- **Preferred skills missing:** -5% per missing skill.\n",
    "- **Exceeds required experience:** +2% per extra year (max +5%).\n",
    "- **Final score is capped at 100%**.\n",
    "\n",
    "---\n",
    "\n",
    "**Job Description:**  \n",
    "{JOB_DESCRIPTION}  \n",
    "\n",
    "**Candidate Resume:**  \n",
    "{RESUME}  \n",
    "\n",
    "---\n",
    "\n",
    "### **Instructions:**  \n",
    "1️⃣ Extract key skills, experience, and certifications from both documents.  \n",
    "2️⃣ Identify matches and gaps between the job description and the candidate's qualifications.  \n",
    "3️⃣ Apply the weighted scoring system to determine the final match score.  \n",
    "4️⃣ Provide a **concise hiring recommendation** based on the score:  \n",
    "   - **90%+ → Strong Fit (Highly Recommended)**  \n",
    "   - **75%-89% → Good Fit (Recommended with Minor Improvements)**  \n",
    "   - **Below 75% → Needs Improvement (Not Recommended)**  \n",
    "\n",
    "---\n",
    "\n",
    "### **Output Format:**  \n",
    "✔ **Evaluation Summary:** Key matches and missing skills.  \n",
    "✔ **Match Score:** XX% (numerical only).  \n",
    "✔ **Hiring Recommendation:** Decision based on final match score.  \n",
    "\n",
    "Provide the structured response exactly as specified. Do not include explanations beyond the requested sections.\n",
    "\"\"\"\n",
    "\n",
    "PROMPT = ZERO_SHOT_PROMPT\n",
    "\n",
    "#### (3) Configure the Model Request\n",
    "payload = create_payload(target=\"ollama\",\n",
    "                         model=\"mistral\",  \n",
    "                         prompt=PROMPT, \n",
    "                         temperature=0.7,  \n",
    "                         num_ctx=768,  # Optimized for resume screening\n",
    "                         num_predict=350,  # Increased to ensure complete structured output\n",
    "                         stream=True)  # Enable streaming for better performance\n",
    "\n",
    "### YOU DON'T NEED TO CONFIGURE ANYTHING ELSE FROM THIS POINT\n",
    "# Send out to the model\n",
    "time, response = model_req(payload=payload)\n",
    "print(response)\n",
    "if time: print(f'Time taken: {time}s')"
   ]
  },
  {
   "cell_type": "code",
   "execution_count": null,
   "metadata": {},
   "outputs": [],
   "source": []
  }
 ],
 "metadata": {
  "kernelspec": {
   "display_name": "venv",
   "language": "python",
   "name": "python3"
  },
  "language_info": {
   "codemirror_mode": {
    "name": "ipython",
    "version": 3
   },
   "file_extension": ".py",
   "mimetype": "text/x-python",
   "name": "python",
   "nbconvert_exporter": "python",
   "pygments_lexer": "ipython3",
   "version": "3.9.13"
  },
  "vscode": {
   "interpreter": {
    "hash": "ad9dbb30419f39d3b950511a054b90c1a8968e921652cfa6c101cb7f52ff5baa"
   }
  }
 },
 "nbformat": 4,
 "nbformat_minor": 2
}
