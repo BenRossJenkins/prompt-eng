{
 "cells": [
  {
   "cell_type": "markdown",
   "metadata": {},
   "source": [
    "\n",
    "\n"
   ]
  },
  {
   "cell_type": "markdown",
   "metadata": {},
   "source": [
    "# Self Consistency Prompting\n",
    "\n",
    "One of the more advanced techniques in prompt engineering is self-consistency, introduced by `Wang et al. (2022)`. \n",
    "\n",
    "This method seeks to improve upon the traditional greedy decoding typically used in chain-of-thought (CoT) prompting. \n",
    "\n",
    "The core concept involves sampling multiple diverse reasoning paths through few-shot CoT and leveraging these variations to determine the most consistent answer. The technique  enhances the effectiveness of CoT prompting, particularly for tasks requiring arithmetic and commonsense reasoning.\n",
    "\n",
    "## References:\n",
    "* [Wang et al. (2022)](https://arxiv.org/abs/2203.11171)"
   ]
  },
  {
   "cell_type": "markdown",
   "metadata": {},
   "source": [
    "## Running this code on MyBind.org\n",
    "\n",
    "Note: remember that you will need to **adjust CONFIG** with **proper URL and API_KEY**!\n",
    "\n",
    "[![Binder](https://mybinder.org/badge_logo.svg)](https://mybinder.org/v2/gh/GenILab-FAU/prompt-eng/HEAD?urlpath=%2Fdoc%2Ftree%2Fprompt-eng%2Fself_consistency.ipynb)\n",
    "\n"
   ]
  },
  {
   "cell_type": "code",
   "execution_count": null,
   "metadata": {},
   "outputs": [
    {
     "name": "stdout",
     "output_type": "stream",
     "text": [
      "To calculate this, we need to know that the logarithm of 2 (base 10) is approximately 0.301.\n",
      "\n",
      "So,\n",
      "\n",
      "984 * log(2) ≈ 984 * 0.301\n",
      "≈ 295.584\n",
      "Time taken: 5.399s\n"
     ]
    }
   ],
   "source": [
    "##\n",
    "## ZERO SHOT PROMPTING\n",
    "##\n",
    "\n",
    "from _pipeline import create_payload, model_req\n",
    "\n",
    "#### (1) Adjust the inbounding  Prompt, simulating inbounding requests from users or other systems\n",
    "MESSAGE = \"What is 984 * log(2)\"\n",
    "\n",
    "#### (2) Adjust the Prompt Engineering Technique to be applied, simulating Workflow Templates\n",
    "\n",
    "## @TODO \n",
    "PROMPT = MESSAGE \n",
    "\n",
    "#### (3) Configure the Model request, simulating Workflow Orchestration\n",
    "# Documentation: https://github.com/ollama/ollama/blob/main/docs/api.md\n",
    "payload = create_payload(target=\"ollama\",\n",
    "                         model=\"llama3.2:latest\", \n",
    "                         prompt=PROMPT, \n",
    "                         temperature=1.0, \n",
    "                         num_ctx=100, \n",
    "                         num_predict=100)\n",
    "\n",
    "### YOU DONT NEED TO CONFIGURE ANYTHING ELSE FROM THIS POINT\n",
    "# Send out to the model\n",
    "time, response = model_req(payload=payload)\n",
    "print(response)\n",
    "if time: print(f'Time taken: {time}s')"
   ]
  },
  {
   "cell_type": "code",
   "execution_count": 4,
   "metadata": {},
   "outputs": [
    {
     "name": "stdout",
     "output_type": "stream",
     "text": [
      "{'model': 'mistral', 'prompt': '\\nYou are an AI hiring assistant. Analyze the job description and resume multiple times using different reasoning paths. Compare answers and provide the most consistent evaluation.\\n\\n### **Evaluation Criteria:**\\n- **Required skills missing:** -0.10 per skill\\n- **Preferred skills missing:** -0.05 per skill\\n- **Exceeds required experience:** +0.02 per extra year (max +0.05)\\n- **Perform 5 independent evaluations** and determine the most **consistent match score**.\\n\\n---\\n\\n**Job Description:**  \\n\\nWe are hiring a Data Scientist with expertise in Python, Machine Learning, and SQL.\\nThe candidate must have at least 3 years of experience and a background in statistical modeling.\\nExperience with cloud platforms (AWS, GCP) is a plus.\\n  \\n\\n**Candidate Resume:**  \\n\\nJohn Doe is a Data Scientist with 4 years of experience. Skilled in Python, Machine Learning,\\nand SQL. He has worked on predictive modeling projects and statistical analysis.\\nFamiliar with AWS but lacks GCP experience.\\n  \\n\\n---\\n\\n**Output Format:**  \\n1️⃣ **Evaluation Summary:**  \\n- Hard Skills: ✅ Matched / ❌ Not Matched  \\n- Soft Skills: ✅ Matched / ❌ Not Matched  \\n- Cloud Platforms: ✅ AWS / ❌ GCP  \\n\\n2️⃣ **Match Score (numerical only, format as \"Match Score: XX.XX%\")**  \\n3️⃣ **Final Hiring Recommendation**  \\n\\nReturn the structured output exactly as specified.\\n', 'stream': False, 'options': {'temperature': 1.0, 'num_ctx': 768, 'num_predict': 350, 'stream': False}}\n",
      "{'model': 'mistral', 'prompt': '\\nYou are an AI hiring assistant. Analyze the job description and resume multiple times using different reasoning paths. Compare answers and provide the most consistent evaluation.\\n\\n### **Evaluation Criteria:**\\n- **Required skills missing:** -0.10 per skill\\n- **Preferred skills missing:** -0.05 per skill\\n- **Exceeds required experience:** +0.02 per extra year (max +0.05)\\n- **Perform 5 independent evaluations** and determine the most **consistent match score**.\\n\\n---\\n\\n**Job Description:**  \\n\\nWe are hiring a Data Scientist with expertise in Python, Machine Learning, and SQL.\\nThe candidate must have at least 3 years of experience and a background in statistical modeling.\\nExperience with cloud platforms (AWS, GCP) is a plus.\\n  \\n\\n**Candidate Resume:**  \\n\\nJohn Doe is a Data Scientist with 4 years of experience. Skilled in Python, Machine Learning,\\nand SQL. He has worked on predictive modeling projects and statistical analysis.\\nFamiliar with AWS but lacks GCP experience.\\n  \\n\\n---\\n\\n**Output Format:**  \\n1️⃣ **Evaluation Summary:**  \\n- Hard Skills: ✅ Matched / ❌ Not Matched  \\n- Soft Skills: ✅ Matched / ❌ Not Matched  \\n- Cloud Platforms: ✅ AWS / ❌ GCP  \\n\\n2️⃣ **Match Score (numerical only, format as \"Match Score: XX.XX%\")**  \\n3️⃣ **Final Hiring Recommendation**  \\n\\nReturn the structured output exactly as specified.\\n', 'stream': False, 'options': {'temperature': 1.0, 'num_ctx': 768, 'num_predict': 350, 'stream': False}}\n",
      "{'model': 'mistral', 'prompt': '\\nYou are an AI hiring assistant. Analyze the job description and resume multiple times using different reasoning paths. Compare answers and provide the most consistent evaluation.\\n\\n### **Evaluation Criteria:**\\n- **Required skills missing:** -0.10 per skill\\n- **Preferred skills missing:** -0.05 per skill\\n- **Exceeds required experience:** +0.02 per extra year (max +0.05)\\n- **Perform 5 independent evaluations** and determine the most **consistent match score**.\\n\\n---\\n\\n**Job Description:**  \\n\\nWe are hiring a Data Scientist with expertise in Python, Machine Learning, and SQL.\\nThe candidate must have at least 3 years of experience and a background in statistical modeling.\\nExperience with cloud platforms (AWS, GCP) is a plus.\\n  \\n\\n**Candidate Resume:**  \\n\\nJohn Doe is a Data Scientist with 4 years of experience. Skilled in Python, Machine Learning,\\nand SQL. He has worked on predictive modeling projects and statistical analysis.\\nFamiliar with AWS but lacks GCP experience.\\n  \\n\\n---\\n\\n**Output Format:**  \\n1️⃣ **Evaluation Summary:**  \\n- Hard Skills: ✅ Matched / ❌ Not Matched  \\n- Soft Skills: ✅ Matched / ❌ Not Matched  \\n- Cloud Platforms: ✅ AWS / ❌ GCP  \\n\\n2️⃣ **Match Score (numerical only, format as \"Match Score: XX.XX%\")**  \\n3️⃣ **Final Hiring Recommendation**  \\n\\nReturn the structured output exactly as specified.\\n', 'stream': False, 'options': {'temperature': 1.0, 'num_ctx': 768, 'num_predict': 350, 'stream': False}}\n",
      "{'model': 'mistral', 'prompt': '\\nYou are an AI hiring assistant. Analyze the job description and resume multiple times using different reasoning paths. Compare answers and provide the most consistent evaluation.\\n\\n### **Evaluation Criteria:**\\n- **Required skills missing:** -0.10 per skill\\n- **Preferred skills missing:** -0.05 per skill\\n- **Exceeds required experience:** +0.02 per extra year (max +0.05)\\n- **Perform 5 independent evaluations** and determine the most **consistent match score**.\\n\\n---\\n\\n**Job Description:**  \\n\\nWe are hiring a Data Scientist with expertise in Python, Machine Learning, and SQL.\\nThe candidate must have at least 3 years of experience and a background in statistical modeling.\\nExperience with cloud platforms (AWS, GCP) is a plus.\\n  \\n\\n**Candidate Resume:**  \\n\\nJohn Doe is a Data Scientist with 4 years of experience. Skilled in Python, Machine Learning,\\nand SQL. He has worked on predictive modeling projects and statistical analysis.\\nFamiliar with AWS but lacks GCP experience.\\n  \\n\\n---\\n\\n**Output Format:**  \\n1️⃣ **Evaluation Summary:**  \\n- Hard Skills: ✅ Matched / ❌ Not Matched  \\n- Soft Skills: ✅ Matched / ❌ Not Matched  \\n- Cloud Platforms: ✅ AWS / ❌ GCP  \\n\\n2️⃣ **Match Score (numerical only, format as \"Match Score: XX.XX%\")**  \\n3️⃣ **Final Hiring Recommendation**  \\n\\nReturn the structured output exactly as specified.\\n', 'stream': False, 'options': {'temperature': 1.0, 'num_ctx': 768, 'num_predict': 350, 'stream': False}}\n",
      "{'model': 'mistral', 'prompt': '\\nYou are an AI hiring assistant. Analyze the job description and resume multiple times using different reasoning paths. Compare answers and provide the most consistent evaluation.\\n\\n### **Evaluation Criteria:**\\n- **Required skills missing:** -0.10 per skill\\n- **Preferred skills missing:** -0.05 per skill\\n- **Exceeds required experience:** +0.02 per extra year (max +0.05)\\n- **Perform 5 independent evaluations** and determine the most **consistent match score**.\\n\\n---\\n\\n**Job Description:**  \\n\\nWe are hiring a Data Scientist with expertise in Python, Machine Learning, and SQL.\\nThe candidate must have at least 3 years of experience and a background in statistical modeling.\\nExperience with cloud platforms (AWS, GCP) is a plus.\\n  \\n\\n**Candidate Resume:**  \\n\\nJohn Doe is a Data Scientist with 4 years of experience. Skilled in Python, Machine Learning,\\nand SQL. He has worked on predictive modeling projects and statistical analysis.\\nFamiliar with AWS but lacks GCP experience.\\n  \\n\\n---\\n\\n**Output Format:**  \\n1️⃣ **Evaluation Summary:**  \\n- Hard Skills: ✅ Matched / ❌ Not Matched  \\n- Soft Skills: ✅ Matched / ❌ Not Matched  \\n- Cloud Platforms: ✅ AWS / ❌ GCP  \\n\\n2️⃣ **Match Score (numerical only, format as \"Match Score: XX.XX%\")**  \\n3️⃣ **Final Hiring Recommendation**  \\n\\nReturn the structured output exactly as specified.\\n', 'stream': False, 'options': {'temperature': 1.0, 'num_ctx': 768, 'num_predict': 350, 'stream': False}}\n",
      "\n",
      "=== AI Resume Screening Result (Self-Consistency) ===\n",
      "\n",
      "Final Match Score (Most Consistent Result): 85.71%\n"
     ]
    }
   ],
   "source": [
    "from _pipeline import create_payload, model_req\n",
    "import numpy as np\n",
    "import re\n",
    "\n",
    "#### (1) Adjust the inbounding Prompt, simulating inbounding requests from users or other systems\n",
    "JOB_DESCRIPTION = \"\"\"\n",
    "We are hiring a Data Scientist with expertise in Python, Machine Learning, and SQL.\n",
    "The candidate must have at least 3 years of experience and a background in statistical modeling.\n",
    "Experience with cloud platforms (AWS, GCP) is a plus.\n",
    "\"\"\"\n",
    "\n",
    "RESUME = \"\"\"\n",
    "John Doe is a Data Scientist with 4 years of experience. Skilled in Python, Machine Learning,\n",
    "and SQL. He has worked on predictive modeling projects and statistical analysis.\n",
    "Familiar with AWS but lacks GCP experience.\n",
    "\"\"\"\n",
    "\n",
    "#### (2) Self-Consistency Prompting Technique\n",
    "SELF_CONSISTENCY_PROMPT = f\"\"\"\n",
    "You are an AI hiring assistant. Analyze the job description and resume multiple times using different reasoning paths. Compare answers and provide the most consistent evaluation.\n",
    "\n",
    "### **Evaluation Criteria:**\n",
    "- **Required skills missing:** -0.10 per skill\n",
    "- **Preferred skills missing:** -0.05 per skill\n",
    "- **Exceeds required experience:** +0.02 per extra year (max +0.05)\n",
    "- **Perform 5 independent evaluations** and determine the most **consistent match score**.\n",
    "\n",
    "---\n",
    "\n",
    "**Job Description:**  \n",
    "{JOB_DESCRIPTION}  \n",
    "\n",
    "**Candidate Resume:**  \n",
    "{RESUME}  \n",
    "\n",
    "---\n",
    "\n",
    "**Output Format:**  \n",
    "1️⃣ **Evaluation Summary:**  \n",
    "- Hard Skills: ✅ Matched / ❌ Not Matched  \n",
    "- Soft Skills: ✅ Matched / ❌ Not Matched  \n",
    "- Cloud Platforms: ✅ AWS / ❌ GCP  \n",
    "\n",
    "2️⃣ **Match Score (numerical only, format as \"Match Score: XX.XX%\")**  \n",
    "3️⃣ **Final Hiring Recommendation**  \n",
    "\n",
    "Return the structured output exactly as specified.\n",
    "\"\"\"\n",
    "\n",
    "#### (3) Generate multiple responses and aggregate the most consistent result\n",
    "def extract_match_score(response):\n",
    "    \"\"\"Extracts the numerical match score from model output.\"\"\"\n",
    "    match = re.search(r\"Match Score[:\\s]+(\\d+\\.?\\d*)\", response)\n",
    "    if match:\n",
    "        return float(match.group(1))  # Extracted score as float\n",
    "    return None  # If no match is found\n",
    "\n",
    "def get_consistent_score(prompt, attempts=5):\n",
    "    \"\"\"Runs multiple evaluations and selects the most consistent match score.\"\"\"\n",
    "    scores = []\n",
    "    \n",
    "    for _ in range(attempts):\n",
    "        payload = create_payload(target=\"ollama\",\n",
    "                                 model=\"mistral\",  \n",
    "                                 prompt=prompt, \n",
    "                                 temperature=1.0,  # Sampling diversity\n",
    "                                 num_ctx=768,  \n",
    "                                 num_predict=350,  \n",
    "                                 stream=False)  \n",
    "\n",
    "        _, response = model_req(payload=payload)\n",
    "        score = extract_match_score(response)  # Extract match score\n",
    "        \n",
    "        if score is not None:\n",
    "            scores.append(score)\n",
    "\n",
    "    if scores:\n",
    "        final_score = np.median(scores)  # Select the most consistent match score\n",
    "    else:\n",
    "        final_score = \"N/A\"  # If no valid scores, return N/A\n",
    "    \n",
    "    return final_score\n",
    "\n",
    "### Compute the final match score using self-consistency\n",
    "final_match_score = get_consistent_score(SELF_CONSISTENCY_PROMPT, attempts=5)\n",
    "\n",
    "### Display the result\n",
    "print(\"\\n=== AI Resume Screening Result (Self-Consistency) ===\\n\")\n",
    "print(f\"Final Match Score (Most Consistent Result): {final_match_score}%\")"
   ]
  },
  {
   "cell_type": "code",
   "execution_count": null,
   "metadata": {},
   "outputs": [],
   "source": []
  }
 ],
 "metadata": {
  "kernelspec": {
   "display_name": "venv",
   "language": "python",
   "name": "python3"
  },
  "language_info": {
   "codemirror_mode": {
    "name": "ipython",
    "version": 3
   },
   "file_extension": ".py",
   "mimetype": "text/x-python",
   "name": "python",
   "nbconvert_exporter": "python",
   "pygments_lexer": "ipython3",
   "version": "3.9.13"
  },
  "vscode": {
   "interpreter": {
    "hash": "ad9dbb30419f39d3b950511a054b90c1a8968e921652cfa6c101cb7f52ff5baa"
   }
  }
 },
 "nbformat": 4,
 "nbformat_minor": 2
}
