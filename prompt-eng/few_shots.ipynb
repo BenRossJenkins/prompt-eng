{
 "cells": [
  {
   "cell_type": "markdown",
   "metadata": {},
   "source": [
    "\n",
    "\n"
   ]
  },
  {
   "cell_type": "markdown",
   "metadata": {},
   "source": [
    "# Few-Shots Prompting\n",
    "\n",
    "Few-shot prompting can be used as a technique to enable in-context learning where we provide demonstrations in the prompt to steer the model to better performance. The demonstrations serve as conditioning for subsequent examples where we would like the model to generate a response.\n",
    "\n",
    "## References:\n",
    "* [Touvron et al. 2023](https://arxiv.org/pdf/2302.13971.pdf): present few shot properties  when models were scaled to a sufficient size\n",
    "* [Kaplan et al., 2020](https://arxiv.org/abs/2001.08361)\n",
    "* [Brown et al. 2020](https://arxiv.org/abs/2005.14165)\n"
   ]
  },
  {
   "cell_type": "code",
   "execution_count": 2,
   "metadata": {},
   "outputs": [
    {
     "name": "stdout",
     "output_type": "stream",
     "text": [
      "{'model': 'mistral', 'prompt': '\\nYou are an AI-powered hiring assistant. Your task is to analyze job descriptions \\nand compare them with candidate resumes using structured reasoning.\\n\\n**Scoring Guidelines:**\\n- If the candidate is missing a **\"required\"** skill, subtract **15 points**.\\n- If the candidate is missing a **\"preferred\" (plus)** skill, subtract **5 points**.\\n- If all required skills match, assign **100%** minus deductions.\\n\\n---\\n\\n**Example 1:**  \\n**Job Description:** Data Scientist with Python, Machine Learning, SQL, and AWS/GCP.  \\n**Candidate Resume:** Python, Machine Learning, SQL, AWS.  \\n**Analysis:**  \\n✔ Hard Skills: Matched  \\n✔ Soft Skills: Not explicitly stated in the resume  \\n✔ Experience: Matches (3+ years required, candidate has 4)  \\n⚠ Certification: AWS present, but GCP missing (-5 points)  \\n\\n**Match Score:** 95%  \\n**Recommendation:** Highly recommended. Candidate aligns with most skills; GCP experience would be beneficial.\\n\\n---\\n\\n**Example 2:**  \\n**Job Description:** Software Engineer with Java, Kubernetes, and Cloud Computing.  \\n**Candidate Resume:** Java, Kubernetes, AWS.  \\n**Analysis:**  \\n✔ Hard Skills: Matched  \\n✔ Cloud Skills: AWS present, but no mention of GCP  \\n✔ Experience: Meets the required 5 years  \\n⚠ Missing Cloud Computing certification (-15 points)  \\n\\n**Match Score:** 85%  \\n**Recommendation:** Strong fit, but missing key certification.\\n\\n---\\n\\nNow analyze the following job description and resume step by step, and provide a match score.  \\nOnly highlight key matches, gaps, and a final score.\\n\\n**Job Description:**  \\n\\nWe are hiring a Data Scientist with expertise in Python, Machine Learning, and SQL.\\nThe candidate must have at least 3 years of experience and a background in statistical modeling.\\nExperience with cloud platforms (AWS, GCP) is a plus.\\n  \\n\\n**Candidate Resume:**  \\n\\nJohn Doe is a Data Scientist with 4 years of experience. Skilled in Python, Machine Learning,\\nand SQL. He has worked on predictive modeling projects and statistical analysis.\\nFamiliar with AWS but lacks GCP experience.\\n  \\n\\n**At the end, provide a one-sentence hiring recommendation based on their strengths and gaps.**\\n', 'stream': False, 'options': {'temperature': 0.7, 'num_ctx': 768, 'num_predict': 250, 'stream': True}}\n",
      "✔ Hard Skills: Matched (Python, Machine Learning, SQL)\n",
      "✔ Soft Skills: Not explicitly stated in the resume\n",
      "✔ Experience: Matches (3+ years required, candidate has 4)\n",
      "✔ Background: Statistical modeling mentioned\n",
      "✔ Cloud Skills: AWS present, but no mention of GCP\n",
      "\n",
      "**Match Score:** 90%\n",
      "**Recommendation:** Highly recommended. Candidate aligns well with required skills and experience, but lacks GCP experience.\n",
      "Time taken: 53.681s\n"
     ]
    }
   ],
   "source": [
    "from _pipeline import create_payload, model_req\n",
    "\n",
    "#### (1) Adjust the inbounding  Prompt, simulating inbounding requests from users or other systems\n",
    "JOB_DESCRIPTION = \"\"\"\n",
    "We are hiring a Data Scientist with expertise in Python, Machine Learning, and SQL.\n",
    "The candidate must have at least 3 years of experience and a background in statistical modeling.\n",
    "Experience with cloud platforms (AWS, GCP) is a plus.\n",
    "\"\"\"\n",
    "\n",
    "RESUME = \"\"\"\n",
    "John Doe is a Data Scientist with 4 years of experience. Skilled in Python, Machine Learning,\n",
    "and SQL. He has worked on predictive modeling projects and statistical analysis.\n",
    "Familiar with AWS but lacks GCP experience.\n",
    "\"\"\"\n",
    "\n",
    "#### (2) Adjust the Few-Shot Prompting Technique\n",
    "FEW_SHOT = f\"\"\"\n",
    "You are an AI-powered hiring assistant. Your task is to analyze job descriptions \n",
    "and compare them with candidate resumes using structured reasoning.\n",
    "\n",
    "**Scoring Guidelines:**\n",
    "- If the candidate is missing a **\"required\"** skill, subtract **15 points**.\n",
    "- If the candidate is missing a **\"preferred\" (plus)** skill, subtract **5 points**.\n",
    "- If all required skills match, assign **100%** minus deductions.\n",
    "\n",
    "---\n",
    "\n",
    "**Example 1:**  \n",
    "**Job Description:** Data Scientist with Python, Machine Learning, SQL, and AWS/GCP.  \n",
    "**Candidate Resume:** Python, Machine Learning, SQL, AWS.  \n",
    "**Analysis:**  \n",
    "✔ Hard Skills: Matched  \n",
    "✔ Soft Skills: Not explicitly stated in the resume  \n",
    "✔ Experience: Matches (3+ years required, candidate has 4)  \n",
    "⚠ Certification: AWS present, but GCP missing (-5 points)  \n",
    "\n",
    "**Match Score:** 95%  \n",
    "**Recommendation:** Highly recommended. Candidate aligns with most skills; GCP experience would be beneficial.\n",
    "\n",
    "---\n",
    "\n",
    "**Example 2:**  \n",
    "**Job Description:** Software Engineer with Java, Kubernetes, and Cloud Computing.  \n",
    "**Candidate Resume:** Java, Kubernetes, AWS.  \n",
    "**Analysis:**  \n",
    "✔ Hard Skills: Matched  \n",
    "✔ Cloud Skills: AWS present, but no mention of GCP  \n",
    "✔ Experience: Meets the required 5 years  \n",
    "⚠ Missing Cloud Computing certification (-15 points)  \n",
    "\n",
    "**Match Score:** 85%  \n",
    "**Recommendation:** Strong fit, but missing key certification.\n",
    "\n",
    "---\n",
    "\n",
    "Now analyze the following job description and resume step by step, and provide a match score.  \n",
    "Only highlight key matches, gaps, and a final score.\n",
    "\n",
    "**Job Description:**  \n",
    "{JOB_DESCRIPTION}  \n",
    "\n",
    "**Candidate Resume:**  \n",
    "{RESUME}  \n",
    "\n",
    "**At the end, provide a one-sentence hiring recommendation based on their strengths and gaps.**\n",
    "\"\"\"\n",
    "\n",
    "PROMPT = FEW_SHOT\n",
    "\n",
    "#### (3) Configure the Model Request\n",
    "payload = create_payload(target=\"ollama\",\n",
    "                         model=\"mistral\",  \n",
    "                         prompt=PROMPT, \n",
    "                         temperature=0.7,  \n",
    "                         num_ctx=768,  # Optimized for speed\n",
    "                         num_predict=250,  # Ensures concise responses\n",
    "                         stream=True)  # Enable streaming for better performance\n",
    "\n",
    "### YOU DON'T NEED TO CONFIGURE ANYTHING ELSE FROM THIS POINT\n",
    "# Send out to the model\n",
    "time, response = model_req(payload=payload)\n",
    "print(response)\n",
    "if time: print(f'Time taken: {time}s')"
   ]
  },
  {
   "cell_type": "code",
   "execution_count": null,
   "metadata": {},
   "outputs": [],
   "source": []
  }
 ],
 "metadata": {
  "kernelspec": {
   "display_name": "venv",
   "language": "python",
   "name": "python3"
  },
  "language_info": {
   "codemirror_mode": {
    "name": "ipython",
    "version": 3
   },
   "file_extension": ".py",
   "mimetype": "text/x-python",
   "name": "python",
   "nbconvert_exporter": "python",
   "pygments_lexer": "ipython3",
   "version": "3.9.13"
  },
  "vscode": {
   "interpreter": {
    "hash": "ad9dbb30419f39d3b950511a054b90c1a8968e921652cfa6c101cb7f52ff5baa"
   }
  }
 },
 "nbformat": 4,
 "nbformat_minor": 2
}
